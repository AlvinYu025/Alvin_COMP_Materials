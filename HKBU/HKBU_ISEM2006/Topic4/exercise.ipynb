{
 "cells": [
  {
   "cell_type": "code",
   "id": "initial_id",
   "metadata": {
    "collapsed": true,
    "ExecuteTime": {
     "end_time": "2025-02-13T08:50:07.532316Z",
     "start_time": "2025-02-13T08:50:07.524316Z"
    }
   },
   "source": "import pandas as pd",
   "outputs": [],
   "execution_count": 2
  },
  {
   "metadata": {},
   "cell_type": "markdown",
   "source": "## Q1",
   "id": "d9f8dd9cb8a4d3a4"
  },
  {
   "metadata": {
    "ExecuteTime": {
     "end_time": "2025-02-13T08:51:08.959585Z",
     "start_time": "2025-02-13T08:51:08.942832Z"
    }
   },
   "cell_type": "code",
   "source": "snp = pd.read_csv('SNP.csv')",
   "id": "19f4b116731e9d8f",
   "outputs": [],
   "execution_count": 6
  },
  {
   "metadata": {
    "ExecuteTime": {
     "end_time": "2025-02-13T08:51:09.176254Z",
     "start_time": "2025-02-13T08:51:09.157610Z"
    }
   },
   "cell_type": "code",
   "source": "snp.head(5)",
   "id": "ac5d0c1205831cf4",
   "outputs": [
    {
     "data": {
      "text/plain": [
       "   overvalue   SNP index\n",
       "0   0.184685  239.087086\n",
       "1   0.312910  952.681531\n",
       "2   0.136728  539.729573\n",
       "3   0.146172  115.106982\n",
       "4   0.898061   64.854322"
      ],
      "text/html": [
       "<div>\n",
       "<style scoped>\n",
       "    .dataframe tbody tr th:only-of-type {\n",
       "        vertical-align: middle;\n",
       "    }\n",
       "\n",
       "    .dataframe tbody tr th {\n",
       "        vertical-align: top;\n",
       "    }\n",
       "\n",
       "    .dataframe thead th {\n",
       "        text-align: right;\n",
       "    }\n",
       "</style>\n",
       "<table border=\"1\" class=\"dataframe\">\n",
       "  <thead>\n",
       "    <tr style=\"text-align: right;\">\n",
       "      <th></th>\n",
       "      <th>overvalue</th>\n",
       "      <th>SNP index</th>\n",
       "    </tr>\n",
       "  </thead>\n",
       "  <tbody>\n",
       "    <tr>\n",
       "      <th>0</th>\n",
       "      <td>0.184685</td>\n",
       "      <td>239.087086</td>\n",
       "    </tr>\n",
       "    <tr>\n",
       "      <th>1</th>\n",
       "      <td>0.312910</td>\n",
       "      <td>952.681531</td>\n",
       "    </tr>\n",
       "    <tr>\n",
       "      <th>2</th>\n",
       "      <td>0.136728</td>\n",
       "      <td>539.729573</td>\n",
       "    </tr>\n",
       "    <tr>\n",
       "      <th>3</th>\n",
       "      <td>0.146172</td>\n",
       "      <td>115.106982</td>\n",
       "    </tr>\n",
       "    <tr>\n",
       "      <th>4</th>\n",
       "      <td>0.898061</td>\n",
       "      <td>64.854322</td>\n",
       "    </tr>\n",
       "  </tbody>\n",
       "</table>\n",
       "</div>"
      ]
     },
     "execution_count": 7,
     "metadata": {},
     "output_type": "execute_result"
    }
   ],
   "execution_count": 7
  },
  {
   "metadata": {
    "ExecuteTime": {
     "end_time": "2025-02-13T08:54:02.598737Z",
     "start_time": "2025-02-13T08:54:02.574563Z"
    }
   },
   "cell_type": "code",
   "source": [
    "correlation = snp['overvalue'].corr(snp['SNP index'])\n",
    "correlation"
   ],
   "id": "da76c5f0ca06edd0",
   "outputs": [
    {
     "data": {
      "text/plain": [
       "-0.08400288331269803"
      ]
     },
     "execution_count": 9,
     "metadata": {},
     "output_type": "execute_result"
    }
   ],
   "execution_count": 9
  },
  {
   "metadata": {},
   "cell_type": "markdown",
   "source": "## Q2",
   "id": "5807b6e3635dcb33"
  },
  {
   "metadata": {
    "ExecuteTime": {
     "end_time": "2025-02-13T09:02:59.254114Z",
     "start_time": "2025-02-13T09:02:59.240435Z"
    }
   },
   "cell_type": "code",
   "source": [
    "def check_voting_eligibility(age):\n",
    "    if age < 18:\n",
    "        print(\"You are not eligible to vote.\")\n",
    "        return False\n",
    "    else:\n",
    "        print(\"You are eligible to vote.\")"
   ],
   "id": "8fbb1c0eb49f5390",
   "outputs": [],
   "execution_count": 12
  },
  {
   "metadata": {
    "ExecuteTime": {
     "end_time": "2025-02-13T09:10:44.453952Z",
     "start_time": "2025-02-13T09:10:44.435447Z"
    }
   },
   "cell_type": "code",
   "source": [
    "age_groups = {'personA': 10, 'personB': 15, 'personC': 30, 'personD': 80}\n",
    "for person, age in age_groups.items():\n",
    "    check_voting_eligibility(age)"
   ],
   "id": "60c369356521b033",
   "outputs": [
    {
     "name": "stdout",
     "output_type": "stream",
     "text": [
      "You are not eligible to vote.\n",
      "You are not eligible to vote.\n",
      "You are eligible to vote.\n",
      "You are eligible to vote.\n"
     ]
    }
   ],
   "execution_count": 15
  },
  {
   "metadata": {},
   "cell_type": "markdown",
   "source": "## Q3",
   "id": "75bc7d1c1a1adf50"
  },
  {
   "metadata": {
    "ExecuteTime": {
     "end_time": "2025-02-13T09:13:30.076605Z",
     "start_time": "2025-02-13T09:13:30.059467Z"
    }
   },
   "cell_type": "code",
   "source": [
    "def check_age_group(age):\n",
    "    if 0 <= age <= 12:\n",
    "        return \"Child\"\n",
    "    elif age <= 19:\n",
    "        return \"Teenager\"\n",
    "    elif age <= 59:\n",
    "        return \"Adult\"\n",
    "    else:\n",
    "        return \"Senior Citizen\""
   ],
   "id": "b26361e5ceeda330",
   "outputs": [],
   "execution_count": 16
  },
  {
   "metadata": {
    "ExecuteTime": {
     "end_time": "2025-02-13T09:14:36.313568Z",
     "start_time": "2025-02-13T09:14:36.296900Z"
    }
   },
   "cell_type": "code",
   "source": [
    "for person, age in age_groups.items():\n",
    "    print(f\"Person {person} in Age Group: {check_age_group(age)}\")"
   ],
   "id": "96e5aa72bfedd473",
   "outputs": [
    {
     "name": "stdout",
     "output_type": "stream",
     "text": [
      "Person personA in Age Group: Child\n",
      "Person personB in Age Group: Teenager\n",
      "Person personC in Age Group: Adult\n",
      "Person personD in Age Group: Senior Citizen\n"
     ]
    }
   ],
   "execution_count": 18
  },
  {
   "metadata": {},
   "cell_type": "markdown",
   "source": "## Q4",
   "id": "cb4a09ead33bdaec"
  },
  {
   "metadata": {
    "ExecuteTime": {
     "end_time": "2025-02-13T09:28:36.513677Z",
     "start_time": "2025-02-13T09:28:36.495792Z"
    }
   },
   "cell_type": "code",
   "source": [
    "def assign_grade(score):\n",
    "    if score >= 90:\n",
    "        return \"A\"\n",
    "    elif score >= 80:\n",
    "        return \"B\"\n",
    "    elif score >= 70:\n",
    "        return \"C\"\n",
    "    elif score >= 60:\n",
    "        return \"D\"\n",
    "    else:\n",
    "        return \"F\""
   ],
   "id": "479bb8d9cf6472bc",
   "outputs": [],
   "execution_count": 23
  },
  {
   "metadata": {
    "ExecuteTime": {
     "end_time": "2025-02-13T09:29:49.727944Z",
     "start_time": "2025-02-13T09:29:49.712875Z"
    }
   },
   "cell_type": "code",
   "source": [
    "score_list = [95, 85, 75, 65, 60, 15]\n",
    "for score in score_list:\n",
    "    print(f\"The assigned grade for score {score} is {assign_grade(score)}\")"
   ],
   "id": "49cc95a30a3d81b8",
   "outputs": [
    {
     "name": "stdout",
     "output_type": "stream",
     "text": [
      "The assigned grade for score 95 is A\n",
      "The assigned grade for score 85 is B\n",
      "The assigned grade for score 75 is C\n",
      "The assigned grade for score 65 is D\n",
      "The assigned grade for score 60 is D\n",
      "The assigned grade for score 15 is F\n"
     ]
    }
   ],
   "execution_count": 25
  },
  {
   "metadata": {},
   "cell_type": "markdown",
   "source": "## Q5",
   "id": "7928d82872cd6cfe"
  },
  {
   "metadata": {
    "ExecuteTime": {
     "end_time": "2025-02-13T09:26:41.392563Z",
     "start_time": "2025-02-13T09:26:41.372396Z"
    }
   },
   "cell_type": "code",
   "source": [
    "def print_length(name):\n",
    "    print(f\"The length of name: {name} is {len(name)}\")"
   ],
   "id": "dcd823dec209d126",
   "outputs": [],
   "execution_count": 20
  },
  {
   "metadata": {
    "ExecuteTime": {
     "end_time": "2025-02-13T09:27:00.262594Z",
     "start_time": "2025-02-13T09:27:00.239633Z"
    }
   },
   "cell_type": "code",
   "source": [
    "names = [\"Alice\", \"Bob\", \"Charlie\", \"David\"]\n",
    "for name in names:\n",
    "    print_length(name)"
   ],
   "id": "a0b85aca63246080",
   "outputs": [
    {
     "name": "stdout",
     "output_type": "stream",
     "text": [
      "The length of name: Alice is 5\n",
      "The length of name: Bob is 3\n",
      "The length of name: Charlie is 7\n",
      "The length of name: David is 5\n"
     ]
    }
   ],
   "execution_count": 22
  },
  {
   "metadata": {},
   "cell_type": "markdown",
   "source": "## Q6",
   "id": "4aaed59450768d5c"
  },
  {
   "metadata": {
    "ExecuteTime": {
     "end_time": "2025-02-13T09:33:35.924250Z",
     "start_time": "2025-02-13T09:33:35.904888Z"
    }
   },
   "cell_type": "code",
   "source": [
    "def squre_value(number):\n",
    "    return number ** 2"
   ],
   "id": "de5bb0ea53938a90",
   "outputs": [],
   "execution_count": 27
  },
  {
   "metadata": {
    "ExecuteTime": {
     "end_time": "2025-02-13T09:33:56.462877Z",
     "start_time": "2025-02-13T09:33:56.438147Z"
    }
   },
   "cell_type": "code",
   "source": [
    "numbers = [1, 2, 3, 4, 5]\n",
    "for number in numbers:\n",
    "    print(f\"The square value of {number} is {squre_value(number)}\")"
   ],
   "id": "1d68652471e656b6",
   "outputs": [
    {
     "name": "stdout",
     "output_type": "stream",
     "text": [
      "The square value of 1 is 1\n",
      "The square value of 2 is 4\n",
      "The square value of 3 is 9\n",
      "The square value of 4 is 16\n",
      "The square value of 5 is 25\n"
     ]
    }
   ],
   "execution_count": 28
  },
  {
   "metadata": {},
   "cell_type": "code",
   "outputs": [],
   "execution_count": null,
   "source": "",
   "id": "50d53f9f0ad88e39"
  }
 ],
 "metadata": {
  "kernelspec": {
   "display_name": "Python 3",
   "language": "python",
   "name": "python3"
  },
  "language_info": {
   "codemirror_mode": {
    "name": "ipython",
    "version": 2
   },
   "file_extension": ".py",
   "mimetype": "text/x-python",
   "name": "python",
   "nbconvert_exporter": "python",
   "pygments_lexer": "ipython2",
   "version": "2.7.6"
  }
 },
 "nbformat": 4,
 "nbformat_minor": 5
}
