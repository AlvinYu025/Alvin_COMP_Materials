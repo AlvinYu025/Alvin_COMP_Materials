{
 "cells": [
  {
   "cell_type": "markdown",
   "metadata": {},
   "source": [
    "# COMP3115: Exploratory Data Analysis and Visualization\n",
    "# Lab 4 Excercise: Data Visualization in Python\n",
    "Student Name: \n",
    "\n",
    "Student Number:"
   ]
  },
  {
   "cell_type": "markdown",
   "metadata": {},
   "source": [
    "### Q1. Load the 'data.csv' into a pandas DataFrame called df. Show the distribution of each feature (i.e. column) using histograms."
   ]
  },
  {
   "cell_type": "code",
   "execution_count": null,
   "metadata": {},
   "outputs": [],
   "source": []
  },
  {
   "cell_type": "markdown",
   "metadata": {},
   "source": [
    "### Q2. Use boxplot to compare the distributions of these five features. Answer the following questions based on the generated figure.\n",
    "#### 2.1 Which feature has the maximum median?\n",
    "#### Answer: \n",
    "\n",
    "#### 2.1 Which features contain outliers based on 1.5*IQR rule?\n",
    "#### Answer: "
   ]
  },
  {
   "cell_type": "code",
   "execution_count": null,
   "metadata": {
    "scrolled": true
   },
   "outputs": [],
   "source": []
  },
  {
   "cell_type": "markdown",
   "metadata": {},
   "source": [
    "### Q3. Use probability plots to determine which features are from normal distribution and which features are from uniform distribution. Write down your answers based on the generated figures. \n",
    "#### 3.1 Features from normal distribution: \n",
    "#### 3.2 Features from uniform distribution: "
   ]
  },
  {
   "cell_type": "code",
   "execution_count": null,
   "metadata": {
    "scrolled": true
   },
   "outputs": [],
   "source": []
  },
  {
   "cell_type": "markdown",
   "metadata": {},
   "source": [
    "### Q4. Use scatterplot to explore the pair-wise relationships among these five features. Answer the following questions based the generated figures.\n",
    "#### 4.1 Which feature pairs are positively correlated?\n",
    "#### 4.2 Which feature pairs are negatively correlated? "
   ]
  },
  {
   "cell_type": "code",
   "execution_count": null,
   "metadata": {},
   "outputs": [],
   "source": []
  }
 ],
 "metadata": {
  "kernelspec": {
   "display_name": "Python 3 (ipykernel)",
   "language": "python",
   "name": "python3"
  },
  "language_info": {
   "codemirror_mode": {
    "name": "ipython",
    "version": 3
   },
   "file_extension": ".py",
   "mimetype": "text/x-python",
   "name": "python",
   "nbconvert_exporter": "python",
   "pygments_lexer": "ipython3",
   "version": "3.9.7"
  }
 },
 "nbformat": 4,
 "nbformat_minor": 2
}
