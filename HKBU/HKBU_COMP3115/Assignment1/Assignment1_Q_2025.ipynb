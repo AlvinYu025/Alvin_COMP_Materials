{
 "cells": [
  {
   "cell_type": "markdown",
   "id": "5c4a47d6",
   "metadata": {},
   "source": [
    "## Assignment 1 (due date: March 7th, 2025)\n",
    "### Student ID: 21251215\n",
    "### Student Name: Yu Fengfei\n",
    "### Data Source: https://www.kaggle.com/datasets/ibkya12/vehicle-price-prediction-dataset"
   ]
  },
  {
   "cell_type": "markdown",
   "id": "73bacd5a",
   "metadata": {},
   "source": [
    " ### Q1. Fill all the `null` values with `\"unknown\"`."
   ]
  },
  {
   "cell_type": "markdown",
   "id": "fc0a8c10",
   "metadata": {},
   "source": [
    "### Q2. Reorder items by `year` in ascending order, then reset the index."
   ]
  },
  {
   "cell_type": "markdown",
   "id": "9c9f5b71",
   "metadata": {},
   "source": [
    "### Q3. How many cars are owned by each category of `seller_type`?"
   ]
  },
  {
   "cell_type": "markdown",
   "id": "33c4eef7",
   "metadata": {},
   "source": [
    "### Q4. How many cars having `selling_price` lower than 100000 with `km_driven` higher than 50000 for each year?"
   ]
  },
  {
   "cell_type": "markdown",
   "id": "d0707cc4",
   "metadata": {},
   "source": [
    "### Q5. What is the average `seats` of cars for each `transmission type`?"
   ]
  },
  {
   "cell_type": "markdown",
   "id": "ad27dcb7",
   "metadata": {},
   "source": [
    "### Q6. Draw a scatter plot to investigate if `km_driven` and `selling_price` are positively correlated each other."
   ]
  },
  {
   "cell_type": "markdown",
   "id": "91794cb9",
   "metadata": {},
   "source": [
    "### Q7. Create a pivot table that shows the mean `km_driven` and `selling_price` values for each `fuel`."
   ]
  },
  {
   "cell_type": "markdown",
   "id": "d755d443",
   "metadata": {},
   "source": [
    "### Q8. Check the unique values in the `owner` column and map 'First Owner' to 1, 'Second Owner' to 2 and 'Third Owner' to 3. The other values in `owener` should be assigned -1."
   ]
  },
  {
   "cell_type": "markdown",
   "id": "4087b8a3",
   "metadata": {},
   "source": [
    "### Q9. Convert the `transmission` using one-hot encoding and merge the new column into the dataframe"
   ]
  },
  {
   "cell_type": "markdown",
   "id": "b7d0f5d6",
   "metadata": {},
   "source": [
    "### Q10. Apply min-max normalization to `seats`."
   ]
  },
  {
   "cell_type": "markdown",
   "id": "30a70713",
   "metadata": {},
   "source": [
    "### Q11. Draw line charts of annually averaged values of `selling_price` separated by `fuel`."
   ]
  }
 ],
 "metadata": {
  "kernelspec": {
   "display_name": "Python 3 (ipykernel)",
   "language": "python",
   "name": "python3"
  },
  "language_info": {
   "codemirror_mode": {
    "name": "ipython",
    "version": 3
   },
   "file_extension": ".py",
   "mimetype": "text/x-python",
   "name": "python",
   "nbconvert_exporter": "python",
   "pygments_lexer": "ipython3",
   "version": "3.11.5"
  }
 },
 "nbformat": 4,
 "nbformat_minor": 5
}
