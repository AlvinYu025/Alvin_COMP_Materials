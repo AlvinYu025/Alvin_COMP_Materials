{
 "cells": [
  {
   "cell_type": "markdown",
   "id": "5867d118",
   "metadata": {},
   "source": [
    "# COMP3115: Exploratory Data Analysis and Visualization\n",
    "\n",
    "# Lab 8: Support Vector Machine and KNN"
   ]
  },
  {
   "cell_type": "markdown",
   "id": "7169a059",
   "metadata": {},
   "source": [
    "## 1.1 Data Set\n",
    "\n",
    "In this lab exercise, we make use a dataset which is called \"iris\". It contains four input attributes/features corresponding to a particular species of iris, including length of sepal, width of sepal, length of petal, and width of petal. It also contains labels specifying the particular species of the iris. Note that this dataset is commonly used by the machine learning community for benchmarking."
   ]
  },
  {
   "cell_type": "markdown",
   "id": "b70b6e22",
   "metadata": {},
   "source": [
    "### Importing data from file"
   ]
  },
  {
   "cell_type": "code",
   "execution_count": 1,
   "id": "92c70ed6",
   "metadata": {
    "scrolled": false
   },
   "outputs": [
    {
     "name": "stdout",
     "output_type": "stream",
     "text": [
      "   sepal_length  sepal_width  petal_length  petal_width species\n",
      "0           5.1          3.5           1.4          0.2  setosa\n",
      "1           4.9          3.0           1.4          0.2  setosa\n",
      "2           4.7          3.2           1.3          0.2  setosa\n",
      "3           4.6          3.1           1.5          0.2  setosa\n",
      "4           5.0          3.6           1.4          0.2  setosa\n",
      "\n",
      " Different species:  ['setosa' 'versicolor' 'virginica']\n"
     ]
    }
   ],
   "source": [
    "import pandas as pd\n",
    "import numpy as np\n",
    "df = pd.read_csv('iris.csv')\n",
    "print(df.head())\n",
    "print('\\n Different species: ',df.species.unique())"
   ]
  },
  {
   "cell_type": "markdown",
   "id": "4fc3998e",
   "metadata": {},
   "source": [
    "## 1.2 Support Vector Machine (SVM)"
   ]
  },
  {
   "cell_type": "markdown",
   "id": "fbaab54c",
   "metadata": {},
   "source": [
    "### Data preparation for k-fold cross validation\n",
    "\n",
    "The following code adopt k-fold cross validation for training and testing the support vector machine for classification. It divides the data into k folds, and hold one for testing and the remaining for training. Repeat that k times. If k=5, it is essentially splitting the data set into 80% for training and 20% for testing. Training and testing steps are done k times and the evaluation results can be averaged to reduce the bias due to a particular data split."
   ]
  },
  {
   "cell_type": "code",
   "execution_count": 2,
   "id": "1a6f6219",
   "metadata": {},
   "outputs": [
    {
     "name": "stdout",
     "output_type": "stream",
     "text": [
      "accuracy (per fold)=  [1.    1.    0.933 0.8   0.833]\n",
      "accuracy (average)=  0.913 ( 0.083 )\n",
      "\n",
      "Confusion Matrix:\n",
      "=================\n",
      "TN= 88 FP= 12 FN= 1 TP= 49\n",
      "Recall/Sensitivity=  0.98\n",
      "Specificity=  0.88\n",
      "Precision=  0.803\n"
     ]
    }
   ],
   "source": [
    "from sklearn.model_selection import KFold\n",
    "from sklearn.model_selection import cross_val_predict\n",
    "from sklearn.svm import SVC\n",
    "from sklearn.model_selection import cross_val_score\n",
    "from sklearn.metrics import confusion_matrix\n",
    "\n",
    "# Suppose we want to classify if an iris is either `setosa` or `virginica` or not. Prepare data into right format\n",
    "# by labeling them as +1 and `versicolor` as -1. \n",
    "X = df.drop(['species'], axis=1).values # drop the species column and leave only the remaining as input\n",
    "y = np.ones(df.shape[0]) # set all to 1\n",
    "y[df['species']!='versicolor'] = -1 # set the versicolor to -1\n",
    "\n",
    "# Construct SVM model - as kernel is not specified, the default is RBF\n",
    "svm_classifier = SVC() #C-Support Vector Classification.\n",
    "\n",
    "# Obtain accuracy based on 5-fold cross-validation\n",
    "cv_accuracy = cross_val_score(svm_classifier, X, y, scoring='accuracy', cv = 5)\n",
    "y_pred = cross_val_predict(svm_classifier, X, y, cv = 5)\n",
    "\n",
    "np.set_printoptions(precision=3)\n",
    "\n",
    "print('accuracy (per fold)= ', cv_accuracy)\n",
    "print('accuracy (average)= ', round(cv_accuracy.mean(),3),'(',round(cv_accuracy.std(),3),')')\n",
    "\n",
    "tn, fp, fn, tp = confusion_matrix(y, y_pred).ravel()\n",
    "print('\\nConfusion Matrix:')\n",
    "print('=================')\n",
    "print('TN=',tn, 'FP=', fp, 'FN=', fn, 'TP=', tp)\n",
    "print('Recall/Sensitivity= ',round(tp/(tp+fn),3))\n",
    "print('Specificity= ', round(tn/(tn+fp),3))\n",
    "print('Precision= ', round(tp/(tp+fp),3))"
   ]
  },
  {
   "cell_type": "markdown",
   "id": "6c1c6016",
   "metadata": {},
   "source": [
    "### SVMs with different parameter settings"
   ]
  },
  {
   "cell_type": "code",
   "execution_count": 3,
   "id": "d1a5960f",
   "metadata": {},
   "outputs": [
    {
     "name": "stdout",
     "output_type": "stream",
     "text": [
      "accuracy (per fold)=  [1.    1.    0.867 0.9   0.933]\n",
      "accuracy (average)=  0.94 ( 0.053 )\n",
      "\n",
      "Confusion Matrix:\n",
      "=================\n",
      "TN= 95 FP= 5 FN= 4 TP= 46\n",
      "Recall/Sensitivity=  0.92\n",
      "Specificity=  0.95\n",
      "Precision=  0.902\n"
     ]
    }
   ],
   "source": [
    "# Construct SVM with a different parameter seting; C for regularization and gamma is for kernel\n",
    "svm_classifier = SVC(C = 100, gamma = 'auto')\n",
    "\n",
    "#Cfloat, default=1.0, Regularization parameter. \n",
    "#The strength of the regularization is inversely proportional to C. \n",
    "#Must be strictly positive. The penalty is a squared l2 penalty.\n",
    "\n",
    "#gamma{‘scale’, ‘auto’} or float, default=’scale’. Kernel coefficient for ‘rbf’, ‘poly’ and ‘sigmoid’.\n",
    "# influence of single sample to decision boundary, large gamma better to map data to high-dimensional space but may introduce overfitting\n",
    "#if gamma='scale' (default) is passed then it uses 1 / (n_features * X.var()) as value of gamma,\n",
    "#if ‘auto’, uses 1 / n_features\n",
    "#if float, must be non-negative.\n",
    "\n",
    "# Obtain accuracy based on 5-fold cross-validation\n",
    "cv_accuracy = cross_val_score(svm_classifier, X, y, scoring='accuracy', cv = 5)\n",
    "y_pred = cross_val_predict(svm_classifier, X, y, cv = 5)\n",
    "\n",
    "print('accuracy (per fold)= ', cv_accuracy)\n",
    "print('accuracy (average)= ', round(cv_accuracy.mean(),3),'(',round(cv_accuracy.std(),3),')')\n",
    "\n",
    "tn, fp, fn, tp = confusion_matrix(y, y_pred).ravel()\n",
    "print('\\nConfusion Matrix:')\n",
    "print('=================')\n",
    "print('TN=',tn, 'FP=', fp, 'FN=', fn, 'TP=', tp)\n",
    "print('Recall/Sensitivity= ',round(tp/(tp+fn),3))\n",
    "print('Specificity= ', round(tn/(tn+fp),3))\n",
    "print('Precision= ', round(tp/(tp+fp),3))"
   ]
  },
  {
   "cell_type": "code",
   "execution_count": 4,
   "id": "69eb79e6",
   "metadata": {},
   "outputs": [
    {
     "name": "stdout",
     "output_type": "stream",
     "text": [
      "accuracy (per fold)=  [0.767 0.833 0.567 0.533 0.7  ]\n",
      "accuracy (average)=  0.68 ( 0.115 )\n",
      "\n",
      "Confusion Matrix:\n",
      "=================\n",
      "TN= 79 FP= 21 FN= 27 TP= 23\n",
      "Recall/Sensitivity=  0.46\n",
      "Specificity=  0.79\n",
      "Precision=  0.523\n"
     ]
    }
   ],
   "source": [
    "# Construct SVM with another parameter setting - linear kernel and C=5\n",
    "svm_classifier = SVC(C=5, kernel = 'linear')\n",
    "\n",
    "# Obtain accuracy based on 5-fold cross-validation\n",
    "cv_accuracy = cross_val_score(svm_classifier, X, y, scoring='accuracy', cv = 5)\n",
    "y_pred = cross_val_predict(svm_classifier, X, y, cv = 5)\n",
    "\n",
    "print('accuracy (per fold)= ', cv_accuracy)\n",
    "print('accuracy (average)= ', round(cv_accuracy.mean(),3),'(',round(cv_accuracy.std(),3),')')\n",
    "\n",
    "tn, fp, fn, tp = confusion_matrix(y, y_pred).ravel()\n",
    "print('\\nConfusion Matrix:')\n",
    "print('=================')\n",
    "print('TN=',tn, 'FP=', fp, 'FN=', fn, 'TP=', tp)\n",
    "print('Recall/Sensitivity= ',round(tp/(tp+fn),3))\n",
    "print('Specificity= ', round(tn/(tn+fp),3))\n",
    "print('Precision= ', round(tp/(tp+fp),3))"
   ]
  },
  {
   "cell_type": "markdown",
   "id": "16a92896",
   "metadata": {},
   "source": [
    "## 1.3 K-Nearest Neighbors (KNN)"
   ]
  },
  {
   "cell_type": "markdown",
   "id": "d5c7d836",
   "metadata": {},
   "source": [
    "KNN considers the neighbors of a data item in the dataset to determine its class, instead of learning a parametric model. So, it is considered to be a non-parametric classification method."
   ]
  },
  {
   "cell_type": "code",
   "execution_count": 5,
   "id": "ad373d4d",
   "metadata": {},
   "outputs": [
    {
     "name": "stdout",
     "output_type": "stream",
     "text": [
      "accuracy (per fold)=  [1.    1.    0.9   0.933 0.967]\n",
      "accuracy (average)=  0.96 ( 0.039 )\n",
      "\n",
      "Confusion Matrix:\n",
      "=================\n",
      "TN= 97 FP= 3 FN= 3 TP= 47\n",
      "Recall/Sensitivity=  0.94\n",
      "Specificity=  0.97\n",
      "Precision=  0.94\n"
     ]
    }
   ],
   "source": [
    "from sklearn.neighbors import KNeighborsClassifier\n",
    "\n",
    "# Construct KNN model\n",
    "KNN_classifier = KNeighborsClassifier(n_neighbors=3)\n",
    "\n",
    "# Obtain accuracy based on 5-fold cross-validation\n",
    "cv_accuracy = cross_val_score(KNN_classifier, X, y, scoring='accuracy', cv = 5)\n",
    "\n",
    "# Perform 5-fold cross-validation and put the prediction results in y_pred\n",
    "y_pred = cross_val_predict(KNN_classifier, X, y, cv = 5)\n",
    "\n",
    "print('accuracy (per fold)= ', cv_accuracy)\n",
    "print('accuracy (average)= ', round(cv_accuracy.mean(),3),'(',round(cv_accuracy.std(),3),')')\n",
    "\n",
    "tn, fp, fn, tp = confusion_matrix(y, y_pred).ravel()\n",
    "print('\\nConfusion Matrix:')\n",
    "print('=================')\n",
    "print('TN=',tn, 'FP=', fp, 'FN=', fn, 'TP=', tp)\n",
    "print('Recall/Sensitivity= ',round(tp/(tp+fn),3))\n",
    "print('Specificity= ', round(tn/(tn+fp),3))\n",
    "print('Precision= ', round(tp/(tp+fp),3))"
   ]
  },
  {
   "cell_type": "code",
   "execution_count": 6,
   "id": "33e9c62e",
   "metadata": {
    "scrolled": false
   },
   "outputs": [
    {
     "name": "stdout",
     "output_type": "stream",
     "text": [
      "accuracy (per fold)=  [1.    1.    0.9   0.933 0.967]\n",
      "accuracy (average)=  0.96 ( 0.039 )\n",
      "\n",
      "Confusion Matrix:\n",
      "=================\n",
      "TN= 98 FP= 2 FN= 3 TP= 47\n",
      "Recall/Sensitivity=  0.94\n",
      "Specificity=  0.98\n",
      "Precision=  0.959\n"
     ]
    }
   ],
   "source": [
    "from sklearn import decomposition\n",
    "\n",
    "# Apply principal component analysis for dimension reduction first\n",
    "pca = decomposition.PCA(n_components=2)\n",
    "pca.fit(X)\n",
    "XX = pca.transform(X)\n",
    "\n",
    "# Construct KNN model\n",
    "KNN1_classifier = KNeighborsClassifier(n_neighbors=3)\n",
    "\n",
    "# Perform 5-fold cross-validation and put the prediction results in y_pred\n",
    "y_pred = cross_val_predict(KNN1_classifier, XX, y, cv = 5)\n",
    "\n",
    "print('accuracy (per fold)= ', cv_accuracy)\n",
    "print('accuracy (average)= ', round(cv_accuracy.mean(),3),'(',round(cv_accuracy.std(),3),')')\n",
    "\n",
    "tn, fp, fn, tp = confusion_matrix(y, y_pred).ravel()\n",
    "print('\\nConfusion Matrix:')\n",
    "print('=================')\n",
    "print('TN=',tn, 'FP=', fp, 'FN=', fn, 'TP=', tp)\n",
    "print('Recall/Sensitivity= ',round(tp/(tp+fn),3))\n",
    "print('Specificity= ', round(tn/(tn+fp),3))\n",
    "print('Precision= ', round(tp/(tp+fp),3))"
   ]
  }
 ],
 "metadata": {
  "kernelspec": {
   "display_name": "Python 3 (ipykernel)",
   "language": "python",
   "name": "python3"
  },
  "language_info": {
   "codemirror_mode": {
    "name": "ipython",
    "version": 3
   },
   "file_extension": ".py",
   "mimetype": "text/x-python",
   "name": "python",
   "nbconvert_exporter": "python",
   "pygments_lexer": "ipython3",
   "version": "3.9.7"
  }
 },
 "nbformat": 4,
 "nbformat_minor": 5
}
