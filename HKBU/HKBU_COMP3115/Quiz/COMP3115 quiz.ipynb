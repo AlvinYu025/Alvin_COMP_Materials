{
 "cells": [
  {
   "cell_type": "markdown",
   "id": "4698d2d5",
   "metadata": {
    "id": "4698d2d5"
   },
   "source": [
    "## Q1. Write a Python function that takes a list of words as input and return a string with unique words separated by `,`.(**15 marks**)\n",
    "`Example Input: [\"apple\", \"banana\", \"apple\", \"orange\", \"banana\", \"grape\"]`\n",
    "\n",
    "`Example Output: \"apple, banana, orange, grape\"`"
   ]
  },
  {
   "cell_type": "code",
   "execution_count": null,
   "id": "8282cb1f",
   "metadata": {
    "colab": {
     "base_uri": "https://localhost:8080/"
    },
    "executionInfo": {
     "elapsed": 52,
     "status": "ok",
     "timestamp": 1739246497178,
     "user": {
      "displayName": "丁毅",
      "userId": "09238879224332007003"
     },
     "user_tz": -480
    },
    "id": "8282cb1f",
    "outputId": "106388c1-32cd-431f-ba94-2882866f83c7"
   },
   "outputs": [],
   "source": []
  },
  {
   "cell_type": "markdown",
   "id": "f43fc5ab",
   "metadata": {
    "id": "f43fc5ab"
   },
   "source": [
    "## Q2. Create a Python function that takes a number `n` as input, output an `n*n` numpy array with elements on the diagonal  0s, others are 1s. (**10 marks**)\n",
    "\n",
    "`Example Input: 4`\n",
    "\n",
    "`Example Output: [[0 1 1 1]\n",
    "[1 0 1 1]\n",
    "[1 1 0 1]\n",
    "[1 1 1 0]]`"
   ]
  },
  {
   "cell_type": "code",
   "execution_count": null,
   "id": "0a43822e",
   "metadata": {
    "colab": {
     "base_uri": "https://localhost:8080/"
    },
    "executionInfo": {
     "elapsed": 76,
     "status": "ok",
     "timestamp": 1739246497533,
     "user": {
      "displayName": "丁毅",
      "userId": "09238879224332007003"
     },
     "user_tz": -480
    },
    "id": "0a43822e",
    "outputId": "9a188af9-f321-43d6-eb37-e8c3a3b114a6"
   },
   "outputs": [],
   "source": []
  },
  {
   "cell_type": "markdown",
   "id": "8af7604f",
   "metadata": {
    "id": "8af7604f"
   },
   "source": [
    "## Q3. Write a Python function that takes  a list of numerical values and integer `n` as inputs, plot a relative frequency histogram with `n` bins, to visualize their distribution. (**15 marks**)\n",
    "`Example Input: [1, 2, 2, 3, 3, 3, 4, 4, 4, 4, 5, 5, 5, 5, 5],5`\n",
    "\n",
    "`Example output (labels and the title are not mandatory):`\n",
    "\n",
    "![Alt text](example.png \"Optional title\")"
   ]
  },
  {
   "cell_type": "code",
   "execution_count": null,
   "id": "00a646c2",
   "metadata": {
    "colab": {
     "base_uri": "https://localhost:8080/",
     "height": 472
    },
    "executionInfo": {
     "elapsed": 1858,
     "status": "ok",
     "timestamp": 1739246499708,
     "user": {
      "displayName": "丁毅",
      "userId": "09238879224332007003"
     },
     "user_tz": -480
    },
    "id": "00a646c2",
    "outputId": "73566020-c351-46bd-89e4-65b9f0e1684e"
   },
   "outputs": [],
   "source": []
  },
  {
   "cell_type": "markdown",
   "id": "b8894225",
   "metadata": {},
   "source": [
    "## Please download `lung_cancer_prediction_dataset.csv` from Moodle and Q4 to Q10 are based on this dataset"
   ]
  },
  {
   "cell_type": "markdown",
   "id": "88f2cccd",
   "metadata": {
    "id": "88f2cccd"
   },
   "source": [
    "## Q4. Write Python program to implement the functions below (15 marks): \n",
    "\n",
    "1. Load the `lung_cancer_prediction_dataset.csv` into a dataframe (**2 marks**)\n",
    "2. Check if any missing values in the dataframe (**5 marks**)\n",
    "3. Count the number of zero values in `Survival_Years` and fill in zero values in the `Survival_Years` by `\"Not applicable\"` (**8 marks**)"
   ]
  },
  {
   "cell_type": "code",
   "execution_count": null,
   "id": "9010324f",
   "metadata": {
    "colab": {
     "base_uri": "https://localhost:8080/"
    },
    "executionInfo": {
     "elapsed": 36,
     "status": "ok",
     "timestamp": 1739246502614,
     "user": {
      "displayName": "丁毅",
      "userId": "09238879224332007003"
     },
     "user_tz": -480
    },
    "id": "9010324f",
    "outputId": "f5263bf0-526e-40c2-b26b-9b26a933bea8"
   },
   "outputs": [],
   "source": []
  },
  {
   "cell_type": "markdown",
   "id": "c5aa56e8",
   "metadata": {
    "id": "c5aa56e8"
   },
   "source": [
    "## Q5. Write Python program to implement the following tasks. (**10 marks**)\n",
    "1. Count the number of each unique item in `Air_Pollution_Exposure` and `Occupational_Exposure` columns (**4 marks**)\n",
    "2. Create a new dataframe that contains dummy variables for both the `Air_Pollution_Exposure` and `Occupational_Exposure` columns. (**6 marks**)"
   ]
  },
  {
   "cell_type": "code",
   "execution_count": null,
   "id": "91d25b45",
   "metadata": {
    "colab": {
     "base_uri": "https://localhost:8080/"
    },
    "executionInfo": {
     "elapsed": 369,
     "status": "ok",
     "timestamp": 1739246503030,
     "user": {
      "displayName": "丁毅",
      "userId": "09238879224332007003"
     },
     "user_tz": -480
    },
    "id": "91d25b45",
    "outputId": "263d9775-6504-49ed-f50b-d139a6305733"
   },
   "outputs": [],
   "source": []
  },
  {
   "cell_type": "markdown",
   "id": "2fd9cc5f",
   "metadata": {
    "id": "2fd9cc5f"
   },
   "source": [
    "## Q6. Write Python program to finish the following tasks. (10 marks)\n",
    "1. Calculate the average age of smokers and non-smokers in the dataset. (**5 marks**)\n",
    "2. Create a pivot table to show the average age of people with different gender and different lung cancer diagnosis status. (**5 marks**)"
   ]
  },
  {
   "cell_type": "code",
   "execution_count": null,
   "id": "9e207a33",
   "metadata": {
    "colab": {
     "base_uri": "https://localhost:8080/"
    },
    "executionInfo": {
     "elapsed": 526,
     "status": "ok",
     "timestamp": 1739246788724,
     "user": {
      "displayName": "丁毅",
      "userId": "09238879224332007003"
     },
     "user_tz": -480
    },
    "id": "9e207a33",
    "outputId": "eb9c01e2-c47b-4741-b91d-3a7b579c7976"
   },
   "outputs": [],
   "source": []
  },
  {
   "cell_type": "markdown",
   "id": "DbGjUlJUqn15",
   "metadata": {
    "id": "DbGjUlJUqn15"
   },
   "source": [
    "## Q7. Standardize the `Age` column (mean=0 and standard deviation=1) for Male individuals whose ages are between 30 and 50 years old, including both 30 and 50. (10 marks)"
   ]
  },
  {
   "cell_type": "code",
   "execution_count": null,
   "id": "4j0_YfSaqpti",
   "metadata": {
    "colab": {
     "base_uri": "https://localhost:8080/"
    },
    "executionInfo": {
     "elapsed": 637,
     "status": "ok",
     "timestamp": 1739247507509,
     "user": {
      "displayName": "丁毅",
      "userId": "09238879224332007003"
     },
     "user_tz": -480
    },
    "id": "4j0_YfSaqpti",
    "outputId": "a6be9ebe-6dd5-45bd-e993-41ea020e4e80"
   },
   "outputs": [],
   "source": []
  },
  {
   "cell_type": "markdown",
   "id": "aSnNFuBHq30d",
   "metadata": {
    "id": "aSnNFuBHq30d"
   },
   "source": [
    "## Q8. Plot the frequency for `Air_Pollution_Exposure` in `Developing` regions. (5 marks)"
   ]
  },
  {
   "cell_type": "code",
   "execution_count": null,
   "id": "KhqYANREqsTC",
   "metadata": {
    "colab": {
     "base_uri": "https://localhost:8080/",
     "height": 447
    },
    "executionInfo": {
     "elapsed": 380,
     "status": "ok",
     "timestamp": 1739247990395,
     "user": {
      "displayName": "丁毅",
      "userId": "09238879224332007003"
     },
     "user_tz": -480
    },
    "id": "KhqYANREqsTC",
    "outputId": "8faf19f1-dd9d-40ee-f522-98631f091744"
   },
   "outputs": [],
   "source": []
  },
  {
   "cell_type": "markdown",
   "id": "UBFEJrq4Qo-T",
   "metadata": {
    "id": "UBFEJrq4Qo-T"
   },
   "source": [
    "## Q9. Apply min-max normalization to `Annual_Lung_Cancer_Deaths` and plot a boxplot for `Annual_Lung_Cancer_Deaths` by grouping the subjects based on their `Healthcare_Access`.  (**5 marks**)"
   ]
  },
  {
   "cell_type": "code",
   "execution_count": null,
   "id": "X-w1qOiRrG99",
   "metadata": {
    "colab": {
     "base_uri": "https://localhost:8080/",
     "height": 495
    },
    "executionInfo": {
     "elapsed": 922,
     "status": "ok",
     "timestamp": 1739248515385,
     "user": {
      "displayName": "丁毅",
      "userId": "09238879224332007003"
     },
     "user_tz": -480
    },
    "id": "X-w1qOiRrG99",
    "outputId": "18b5f82c-a2ea-46ed-dba5-d3a4efba9bba"
   },
   "outputs": [],
   "source": []
  },
  {
   "cell_type": "markdown",
   "id": "e8RoyfKDTLlj",
   "metadata": {
    "id": "e8RoyfKDTLlj"
   },
   "source": [
    "## Q10. Plot the total number of `Annual_Lung_Cancer_Deaths` for different `Country` and `Gender` combinations (**5 marks**)"
   ]
  },
  {
   "cell_type": "code",
   "execution_count": null,
   "id": "1pFpEU96Q_fw",
   "metadata": {
    "colab": {
     "base_uri": "https://localhost:8080/",
     "height": 644
    },
    "executionInfo": {
     "elapsed": 678,
     "status": "ok",
     "timestamp": 1739249036113,
     "user": {
      "displayName": "丁毅",
      "userId": "09238879224332007003"
     },
     "user_tz": -480
    },
    "id": "1pFpEU96Q_fw",
    "outputId": "8a120302-0bf4-4812-9235-03f60c321f24"
   },
   "outputs": [],
   "source": []
  }
 ],
 "metadata": {
  "colab": {
   "provenance": []
  },
  "kernelspec": {
   "display_name": "Python 3 (ipykernel)",
   "language": "python",
   "name": "python3"
  },
  "language_info": {
   "codemirror_mode": {
    "name": "ipython",
    "version": 3
   },
   "file_extension": ".py",
   "mimetype": "text/x-python",
   "name": "python",
   "nbconvert_exporter": "python",
   "pygments_lexer": "ipython3",
   "version": "3.11.5"
  }
 },
 "nbformat": 4,
 "nbformat_minor": 5
}
