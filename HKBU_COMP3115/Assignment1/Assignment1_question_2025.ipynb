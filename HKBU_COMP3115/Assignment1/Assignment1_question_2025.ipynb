{
 "cells": [
  {
   "cell_type": "markdown",
   "id": "5c4a47d6",
   "metadata": {},
   "source": [
    "## Assignment 1 (due date: March 7th, 2025)\n",
    "### Student ID: 21251215\n",
    "### Student Name: Yu Fengfei\n",
    "### Data Source: https://www.kaggle.com/datasets/ibkya12/vehicle-price-prediction-dataset"
   ]
  },
  {
   "metadata": {
    "ExecuteTime": {
     "end_time": "2025-02-21T05:55:07.836282Z",
     "start_time": "2025-02-21T05:55:07.816565Z"
    }
   },
   "cell_type": "code",
   "source": [
    "import numpy as np\n",
    "import pandas as pd\n",
    "import matplotlib.pyplot as plt"
   ],
   "id": "ede360d7cf6f28c8",
   "outputs": [],
   "execution_count": 7
  },
  {
   "metadata": {
    "ExecuteTime": {
     "end_time": "2025-02-21T05:55:07.937237Z",
     "start_time": "2025-02-21T05:55:07.889875Z"
    }
   },
   "cell_type": "code",
   "source": [
    "df = pd.read_csv(\"Processed_Cardetails.csv\")\n",
    "df.head()"
   ],
   "id": "2489e7419c514b34",
   "outputs": [
    {
     "data": {
      "text/plain": [
       "                           name  year  selling_price  km_driven    fuel  \\\n",
       "0        Maruti Swift Dzire VDI  2014         450000     145500  Diesel   \n",
       "1  Skoda Rapid 1.5 TDI Ambition  2014         370000     120000  Diesel   \n",
       "2      Honda City 2017-2020 EXi  2006         158000     140000  Petrol   \n",
       "3     Hyundai i20 Sportz Diesel  2010         225000     127000  Diesel   \n",
       "4        Maruti Swift VXI BSIII  2007         130000     120000  Petrol   \n",
       "\n",
       "  seller_type transmission         owner     mileage   engine   max_power  \\\n",
       "0  Individual       Manual   First Owner   23.4 kmpl  1248 CC      74 bhp   \n",
       "1  Individual       Manual  Second Owner  21.14 kmpl  1498 CC  103.52 bhp   \n",
       "2  Individual       Manual   Third Owner   17.7 kmpl  1497 CC      78 bhp   \n",
       "3  Individual       Manual   First Owner   23.0 kmpl  1396 CC      90 bhp   \n",
       "4  Individual       Manual   First Owner   16.1 kmpl  1298 CC    88.2 bhp   \n",
       "\n",
       "                     torque  seats  brand  model  \n",
       "0            190Nm@ 2000rpm    5.0      0      0  \n",
       "1       250Nm@ 1500-2500rpm    5.0      1      1  \n",
       "2     12.7@ 2,700(kgm@ rpm)    5.0      2      2  \n",
       "3  22.4 kgm at 1750-2750rpm    5.0      3      3  \n",
       "4     11.5@ 4,500(kgm@ rpm)    5.0      0      4  "
      ],
      "text/html": [
       "<div>\n",
       "<style scoped>\n",
       "    .dataframe tbody tr th:only-of-type {\n",
       "        vertical-align: middle;\n",
       "    }\n",
       "\n",
       "    .dataframe tbody tr th {\n",
       "        vertical-align: top;\n",
       "    }\n",
       "\n",
       "    .dataframe thead th {\n",
       "        text-align: right;\n",
       "    }\n",
       "</style>\n",
       "<table border=\"1\" class=\"dataframe\">\n",
       "  <thead>\n",
       "    <tr style=\"text-align: right;\">\n",
       "      <th></th>\n",
       "      <th>name</th>\n",
       "      <th>year</th>\n",
       "      <th>selling_price</th>\n",
       "      <th>km_driven</th>\n",
       "      <th>fuel</th>\n",
       "      <th>seller_type</th>\n",
       "      <th>transmission</th>\n",
       "      <th>owner</th>\n",
       "      <th>mileage</th>\n",
       "      <th>engine</th>\n",
       "      <th>max_power</th>\n",
       "      <th>torque</th>\n",
       "      <th>seats</th>\n",
       "      <th>brand</th>\n",
       "      <th>model</th>\n",
       "    </tr>\n",
       "  </thead>\n",
       "  <tbody>\n",
       "    <tr>\n",
       "      <th>0</th>\n",
       "      <td>Maruti Swift Dzire VDI</td>\n",
       "      <td>2014</td>\n",
       "      <td>450000</td>\n",
       "      <td>145500</td>\n",
       "      <td>Diesel</td>\n",
       "      <td>Individual</td>\n",
       "      <td>Manual</td>\n",
       "      <td>First Owner</td>\n",
       "      <td>23.4 kmpl</td>\n",
       "      <td>1248 CC</td>\n",
       "      <td>74 bhp</td>\n",
       "      <td>190Nm@ 2000rpm</td>\n",
       "      <td>5.0</td>\n",
       "      <td>0</td>\n",
       "      <td>0</td>\n",
       "    </tr>\n",
       "    <tr>\n",
       "      <th>1</th>\n",
       "      <td>Skoda Rapid 1.5 TDI Ambition</td>\n",
       "      <td>2014</td>\n",
       "      <td>370000</td>\n",
       "      <td>120000</td>\n",
       "      <td>Diesel</td>\n",
       "      <td>Individual</td>\n",
       "      <td>Manual</td>\n",
       "      <td>Second Owner</td>\n",
       "      <td>21.14 kmpl</td>\n",
       "      <td>1498 CC</td>\n",
       "      <td>103.52 bhp</td>\n",
       "      <td>250Nm@ 1500-2500rpm</td>\n",
       "      <td>5.0</td>\n",
       "      <td>1</td>\n",
       "      <td>1</td>\n",
       "    </tr>\n",
       "    <tr>\n",
       "      <th>2</th>\n",
       "      <td>Honda City 2017-2020 EXi</td>\n",
       "      <td>2006</td>\n",
       "      <td>158000</td>\n",
       "      <td>140000</td>\n",
       "      <td>Petrol</td>\n",
       "      <td>Individual</td>\n",
       "      <td>Manual</td>\n",
       "      <td>Third Owner</td>\n",
       "      <td>17.7 kmpl</td>\n",
       "      <td>1497 CC</td>\n",
       "      <td>78 bhp</td>\n",
       "      <td>12.7@ 2,700(kgm@ rpm)</td>\n",
       "      <td>5.0</td>\n",
       "      <td>2</td>\n",
       "      <td>2</td>\n",
       "    </tr>\n",
       "    <tr>\n",
       "      <th>3</th>\n",
       "      <td>Hyundai i20 Sportz Diesel</td>\n",
       "      <td>2010</td>\n",
       "      <td>225000</td>\n",
       "      <td>127000</td>\n",
       "      <td>Diesel</td>\n",
       "      <td>Individual</td>\n",
       "      <td>Manual</td>\n",
       "      <td>First Owner</td>\n",
       "      <td>23.0 kmpl</td>\n",
       "      <td>1396 CC</td>\n",
       "      <td>90 bhp</td>\n",
       "      <td>22.4 kgm at 1750-2750rpm</td>\n",
       "      <td>5.0</td>\n",
       "      <td>3</td>\n",
       "      <td>3</td>\n",
       "    </tr>\n",
       "    <tr>\n",
       "      <th>4</th>\n",
       "      <td>Maruti Swift VXI BSIII</td>\n",
       "      <td>2007</td>\n",
       "      <td>130000</td>\n",
       "      <td>120000</td>\n",
       "      <td>Petrol</td>\n",
       "      <td>Individual</td>\n",
       "      <td>Manual</td>\n",
       "      <td>First Owner</td>\n",
       "      <td>16.1 kmpl</td>\n",
       "      <td>1298 CC</td>\n",
       "      <td>88.2 bhp</td>\n",
       "      <td>11.5@ 4,500(kgm@ rpm)</td>\n",
       "      <td>5.0</td>\n",
       "      <td>0</td>\n",
       "      <td>4</td>\n",
       "    </tr>\n",
       "  </tbody>\n",
       "</table>\n",
       "</div>"
      ]
     },
     "execution_count": 8,
     "metadata": {},
     "output_type": "execute_result"
    }
   ],
   "execution_count": 8
  },
  {
   "cell_type": "markdown",
   "id": "73bacd5a",
   "metadata": {},
   "source": [
    " ### Q1. Fill all the `null` values with `\"unknown\"`."
   ]
  },
  {
   "cell_type": "code",
   "id": "1ee087c2",
   "metadata": {
    "ExecuteTime": {
     "end_time": "2025-02-21T05:55:07.968570Z",
     "start_time": "2025-02-21T05:55:07.939545Z"
    }
   },
   "source": "df.info()",
   "outputs": [
    {
     "name": "stdout",
     "output_type": "stream",
     "text": [
      "<class 'pandas.core.frame.DataFrame'>\n",
      "RangeIndex: 8128 entries, 0 to 8127\n",
      "Data columns (total 15 columns):\n",
      " #   Column         Non-Null Count  Dtype  \n",
      "---  ------         --------------  -----  \n",
      " 0   name           8128 non-null   object \n",
      " 1   year           8128 non-null   int64  \n",
      " 2   selling_price  8128 non-null   int64  \n",
      " 3   km_driven      8128 non-null   int64  \n",
      " 4   fuel           8128 non-null   object \n",
      " 5   seller_type    8128 non-null   object \n",
      " 6   transmission   8128 non-null   object \n",
      " 7   owner          8128 non-null   object \n",
      " 8   mileage        7907 non-null   object \n",
      " 9   engine         7907 non-null   object \n",
      " 10  max_power      7913 non-null   object \n",
      " 11  torque         7906 non-null   object \n",
      " 12  seats          7907 non-null   float64\n",
      " 13  brand          8128 non-null   int64  \n",
      " 14  model          8128 non-null   int64  \n",
      "dtypes: float64(1), int64(5), object(9)\n",
      "memory usage: 952.6+ KB\n"
     ]
    }
   ],
   "execution_count": 9
  },
  {
   "metadata": {
    "ExecuteTime": {
     "end_time": "2025-02-21T05:56:43.665411Z",
     "start_time": "2025-02-21T05:56:43.626939Z"
    }
   },
   "cell_type": "code",
   "source": [
    "df = df.fillna(\"unknown\")\n",
    "df.info()"
   ],
   "id": "70daee30fde2fa08",
   "outputs": [
    {
     "name": "stdout",
     "output_type": "stream",
     "text": [
      "<class 'pandas.core.frame.DataFrame'>\n",
      "RangeIndex: 8128 entries, 0 to 8127\n",
      "Data columns (total 15 columns):\n",
      " #   Column         Non-Null Count  Dtype \n",
      "---  ------         --------------  ----- \n",
      " 0   name           8128 non-null   object\n",
      " 1   year           8128 non-null   int64 \n",
      " 2   selling_price  8128 non-null   int64 \n",
      " 3   km_driven      8128 non-null   int64 \n",
      " 4   fuel           8128 non-null   object\n",
      " 5   seller_type    8128 non-null   object\n",
      " 6   transmission   8128 non-null   object\n",
      " 7   owner          8128 non-null   object\n",
      " 8   mileage        8128 non-null   object\n",
      " 9   engine         8128 non-null   object\n",
      " 10  max_power      8128 non-null   object\n",
      " 11  torque         8128 non-null   object\n",
      " 12  seats          8128 non-null   object\n",
      " 13  brand          8128 non-null   int64 \n",
      " 14  model          8128 non-null   int64 \n",
      "dtypes: int64(5), object(10)\n",
      "memory usage: 952.6+ KB\n"
     ]
    }
   ],
   "execution_count": 13
  },
  {
   "cell_type": "markdown",
   "id": "fc0a8c10",
   "metadata": {},
   "source": [
    "### Q2. Reorder items by `year` in ascending order, then reset the index."
   ]
  },
  {
   "cell_type": "code",
   "id": "adb4267c",
   "metadata": {
    "ExecuteTime": {
     "end_time": "2025-02-21T06:00:32.260669Z",
     "start_time": "2025-02-21T06:00:32.236719Z"
    }
   },
   "source": [
    "df = df.sort_values(by='year', ascending=True)\n",
    "df = df.reset_index(drop=True)\n",
    "df.head(10)"
   ],
   "outputs": [
    {
     "data": {
      "text/plain": [
       "                                name  year  selling_price  km_driven    fuel  \\\n",
       "0          Mahindra Willys CJ 3B 4X4  1983         300000      10000  Diesel   \n",
       "1           Maruti Omni LPG STD BSIV  1991          55000     120000     LPG   \n",
       "2           Mahindra Jeep CL 500 MDI  1994         120000     100000  Diesel   \n",
       "3                      Maruti 800 AC  1994          45000      60000  Petrol   \n",
       "4  Ambassador Classic 2000 DSZ AC PS  1994          99000     100000  Diesel   \n",
       "5               Mahindra Jeep MM 540  1995         160000      90000  Diesel   \n",
       "6                     Maruti 800 Std  1995          55000      70000  Petrol   \n",
       "7              Mahindra Jeep Classic  1996         163000       5000  Diesel   \n",
       "8                      Maruti 800 DX  1996          40000      32000  Petrol   \n",
       "9                      Maruti 800 AC  1996          42000      70000  Petrol   \n",
       "\n",
       "  seller_type transmission         owner    mileage   engine max_power  \\\n",
       "0  Individual       Manual   Third Owner    unknown  unknown   unknown   \n",
       "1  Individual       Manual  Second Owner    unknown  unknown   unknown   \n",
       "2  Individual       Manual  Second Owner    unknown  unknown   unknown   \n",
       "3  Individual       Manual   First Owner  16.1 kmpl   796 CC    37 bhp   \n",
       "4  Individual       Manual  Second Owner  12.8 kmpl  1995 CC    52 bhp   \n",
       "5  Individual       Manual   Third Owner    unknown  unknown   unknown   \n",
       "6  Individual       Manual   First Owner  16.1 kmpl   796 CC    37 bhp   \n",
       "7  Individual       Manual  Second Owner    unknown  unknown   unknown   \n",
       "8  Individual       Manual  Second Owner  16.1 kmpl   796 CC    37 bhp   \n",
       "9  Individual       Manual   Third Owner  16.1 kmpl   796 CC    37 bhp   \n",
       "\n",
       "           torque    seats  brand  model  \n",
       "0         unknown  unknown      7    257  \n",
       "1         unknown  unknown      0   1126  \n",
       "2         unknown  unknown      7    765  \n",
       "3   59Nm@ 2500rpm      4.0      0    515  \n",
       "4  106Nm@ 2200rpm      5.0     27   1570  \n",
       "5         unknown  unknown      7    911  \n",
       "6   59Nm@ 2500rpm      4.0      0     39  \n",
       "7         unknown  unknown      7    672  \n",
       "8   59Nm@ 2500rpm      4.0      0    782  \n",
       "9   59Nm@ 2500rpm      4.0      0    515  "
      ],
      "text/html": [
       "<div>\n",
       "<style scoped>\n",
       "    .dataframe tbody tr th:only-of-type {\n",
       "        vertical-align: middle;\n",
       "    }\n",
       "\n",
       "    .dataframe tbody tr th {\n",
       "        vertical-align: top;\n",
       "    }\n",
       "\n",
       "    .dataframe thead th {\n",
       "        text-align: right;\n",
       "    }\n",
       "</style>\n",
       "<table border=\"1\" class=\"dataframe\">\n",
       "  <thead>\n",
       "    <tr style=\"text-align: right;\">\n",
       "      <th></th>\n",
       "      <th>name</th>\n",
       "      <th>year</th>\n",
       "      <th>selling_price</th>\n",
       "      <th>km_driven</th>\n",
       "      <th>fuel</th>\n",
       "      <th>seller_type</th>\n",
       "      <th>transmission</th>\n",
       "      <th>owner</th>\n",
       "      <th>mileage</th>\n",
       "      <th>engine</th>\n",
       "      <th>max_power</th>\n",
       "      <th>torque</th>\n",
       "      <th>seats</th>\n",
       "      <th>brand</th>\n",
       "      <th>model</th>\n",
       "    </tr>\n",
       "  </thead>\n",
       "  <tbody>\n",
       "    <tr>\n",
       "      <th>0</th>\n",
       "      <td>Mahindra Willys CJ 3B 4X4</td>\n",
       "      <td>1983</td>\n",
       "      <td>300000</td>\n",
       "      <td>10000</td>\n",
       "      <td>Diesel</td>\n",
       "      <td>Individual</td>\n",
       "      <td>Manual</td>\n",
       "      <td>Third Owner</td>\n",
       "      <td>unknown</td>\n",
       "      <td>unknown</td>\n",
       "      <td>unknown</td>\n",
       "      <td>unknown</td>\n",
       "      <td>unknown</td>\n",
       "      <td>7</td>\n",
       "      <td>257</td>\n",
       "    </tr>\n",
       "    <tr>\n",
       "      <th>1</th>\n",
       "      <td>Maruti Omni LPG STD BSIV</td>\n",
       "      <td>1991</td>\n",
       "      <td>55000</td>\n",
       "      <td>120000</td>\n",
       "      <td>LPG</td>\n",
       "      <td>Individual</td>\n",
       "      <td>Manual</td>\n",
       "      <td>Second Owner</td>\n",
       "      <td>unknown</td>\n",
       "      <td>unknown</td>\n",
       "      <td>unknown</td>\n",
       "      <td>unknown</td>\n",
       "      <td>unknown</td>\n",
       "      <td>0</td>\n",
       "      <td>1126</td>\n",
       "    </tr>\n",
       "    <tr>\n",
       "      <th>2</th>\n",
       "      <td>Mahindra Jeep CL 500 MDI</td>\n",
       "      <td>1994</td>\n",
       "      <td>120000</td>\n",
       "      <td>100000</td>\n",
       "      <td>Diesel</td>\n",
       "      <td>Individual</td>\n",
       "      <td>Manual</td>\n",
       "      <td>Second Owner</td>\n",
       "      <td>unknown</td>\n",
       "      <td>unknown</td>\n",
       "      <td>unknown</td>\n",
       "      <td>unknown</td>\n",
       "      <td>unknown</td>\n",
       "      <td>7</td>\n",
       "      <td>765</td>\n",
       "    </tr>\n",
       "    <tr>\n",
       "      <th>3</th>\n",
       "      <td>Maruti 800 AC</td>\n",
       "      <td>1994</td>\n",
       "      <td>45000</td>\n",
       "      <td>60000</td>\n",
       "      <td>Petrol</td>\n",
       "      <td>Individual</td>\n",
       "      <td>Manual</td>\n",
       "      <td>First Owner</td>\n",
       "      <td>16.1 kmpl</td>\n",
       "      <td>796 CC</td>\n",
       "      <td>37 bhp</td>\n",
       "      <td>59Nm@ 2500rpm</td>\n",
       "      <td>4.0</td>\n",
       "      <td>0</td>\n",
       "      <td>515</td>\n",
       "    </tr>\n",
       "    <tr>\n",
       "      <th>4</th>\n",
       "      <td>Ambassador Classic 2000 DSZ AC PS</td>\n",
       "      <td>1994</td>\n",
       "      <td>99000</td>\n",
       "      <td>100000</td>\n",
       "      <td>Diesel</td>\n",
       "      <td>Individual</td>\n",
       "      <td>Manual</td>\n",
       "      <td>Second Owner</td>\n",
       "      <td>12.8 kmpl</td>\n",
       "      <td>1995 CC</td>\n",
       "      <td>52 bhp</td>\n",
       "      <td>106Nm@ 2200rpm</td>\n",
       "      <td>5.0</td>\n",
       "      <td>27</td>\n",
       "      <td>1570</td>\n",
       "    </tr>\n",
       "    <tr>\n",
       "      <th>5</th>\n",
       "      <td>Mahindra Jeep MM 540</td>\n",
       "      <td>1995</td>\n",
       "      <td>160000</td>\n",
       "      <td>90000</td>\n",
       "      <td>Diesel</td>\n",
       "      <td>Individual</td>\n",
       "      <td>Manual</td>\n",
       "      <td>Third Owner</td>\n",
       "      <td>unknown</td>\n",
       "      <td>unknown</td>\n",
       "      <td>unknown</td>\n",
       "      <td>unknown</td>\n",
       "      <td>unknown</td>\n",
       "      <td>7</td>\n",
       "      <td>911</td>\n",
       "    </tr>\n",
       "    <tr>\n",
       "      <th>6</th>\n",
       "      <td>Maruti 800 Std</td>\n",
       "      <td>1995</td>\n",
       "      <td>55000</td>\n",
       "      <td>70000</td>\n",
       "      <td>Petrol</td>\n",
       "      <td>Individual</td>\n",
       "      <td>Manual</td>\n",
       "      <td>First Owner</td>\n",
       "      <td>16.1 kmpl</td>\n",
       "      <td>796 CC</td>\n",
       "      <td>37 bhp</td>\n",
       "      <td>59Nm@ 2500rpm</td>\n",
       "      <td>4.0</td>\n",
       "      <td>0</td>\n",
       "      <td>39</td>\n",
       "    </tr>\n",
       "    <tr>\n",
       "      <th>7</th>\n",
       "      <td>Mahindra Jeep Classic</td>\n",
       "      <td>1996</td>\n",
       "      <td>163000</td>\n",
       "      <td>5000</td>\n",
       "      <td>Diesel</td>\n",
       "      <td>Individual</td>\n",
       "      <td>Manual</td>\n",
       "      <td>Second Owner</td>\n",
       "      <td>unknown</td>\n",
       "      <td>unknown</td>\n",
       "      <td>unknown</td>\n",
       "      <td>unknown</td>\n",
       "      <td>unknown</td>\n",
       "      <td>7</td>\n",
       "      <td>672</td>\n",
       "    </tr>\n",
       "    <tr>\n",
       "      <th>8</th>\n",
       "      <td>Maruti 800 DX</td>\n",
       "      <td>1996</td>\n",
       "      <td>40000</td>\n",
       "      <td>32000</td>\n",
       "      <td>Petrol</td>\n",
       "      <td>Individual</td>\n",
       "      <td>Manual</td>\n",
       "      <td>Second Owner</td>\n",
       "      <td>16.1 kmpl</td>\n",
       "      <td>796 CC</td>\n",
       "      <td>37 bhp</td>\n",
       "      <td>59Nm@ 2500rpm</td>\n",
       "      <td>4.0</td>\n",
       "      <td>0</td>\n",
       "      <td>782</td>\n",
       "    </tr>\n",
       "    <tr>\n",
       "      <th>9</th>\n",
       "      <td>Maruti 800 AC</td>\n",
       "      <td>1996</td>\n",
       "      <td>42000</td>\n",
       "      <td>70000</td>\n",
       "      <td>Petrol</td>\n",
       "      <td>Individual</td>\n",
       "      <td>Manual</td>\n",
       "      <td>Third Owner</td>\n",
       "      <td>16.1 kmpl</td>\n",
       "      <td>796 CC</td>\n",
       "      <td>37 bhp</td>\n",
       "      <td>59Nm@ 2500rpm</td>\n",
       "      <td>4.0</td>\n",
       "      <td>0</td>\n",
       "      <td>515</td>\n",
       "    </tr>\n",
       "  </tbody>\n",
       "</table>\n",
       "</div>"
      ]
     },
     "execution_count": 15,
     "metadata": {},
     "output_type": "execute_result"
    }
   ],
   "execution_count": 15
  },
  {
   "cell_type": "markdown",
   "id": "9c9f5b71",
   "metadata": {},
   "source": [
    "### Q3. How many cars are owned by each category of `seller_type`?"
   ]
  },
  {
   "cell_type": "code",
   "id": "f3705bce",
   "metadata": {
    "ExecuteTime": {
     "end_time": "2025-02-21T05:55:08.025402Z",
     "start_time": "2025-02-21T05:55:08.012519Z"
    }
   },
   "source": [],
   "outputs": [],
   "execution_count": 10
  },
  {
   "cell_type": "markdown",
   "id": "33c4eef7",
   "metadata": {},
   "source": [
    "### Q4. How many cars having `selling_price` lower than 100000 with `km_driven` higher than 50000 for each year?"
   ]
  },
  {
   "cell_type": "code",
   "id": "81122f8a",
   "metadata": {
    "ExecuteTime": {
     "end_time": "2025-02-21T05:55:08.041049Z",
     "start_time": "2025-02-21T05:55:08.028043Z"
    }
   },
   "source": [],
   "outputs": [],
   "execution_count": 10
  },
  {
   "cell_type": "markdown",
   "id": "d0707cc4",
   "metadata": {},
   "source": [
    "### Q5. What is the average `seats` of cars for each `transmission type`?"
   ]
  },
  {
   "cell_type": "code",
   "id": "d7762157",
   "metadata": {
    "ExecuteTime": {
     "end_time": "2025-02-21T05:55:08.052975Z",
     "start_time": "2025-02-21T05:55:08.041049Z"
    }
   },
   "source": [],
   "outputs": [],
   "execution_count": 10
  },
  {
   "cell_type": "markdown",
   "id": "ad27dcb7",
   "metadata": {},
   "source": [
    "### Q6. Draw a scatter plot to investigate if `km_driven` and `selling_price` are positively correlated each other."
   ]
  },
  {
   "cell_type": "code",
   "id": "18f59fae",
   "metadata": {
    "ExecuteTime": {
     "end_time": "2025-02-21T05:55:08.114297Z",
     "start_time": "2025-02-21T05:55:08.098455Z"
    }
   },
   "source": [],
   "outputs": [],
   "execution_count": 10
  },
  {
   "cell_type": "markdown",
   "id": "91794cb9",
   "metadata": {},
   "source": [
    "### Q7. Create a pivot table that shows the mean `km_driven` and `selling_price` values for each `fuel`."
   ]
  },
  {
   "cell_type": "code",
   "id": "06cd5c73",
   "metadata": {
    "ExecuteTime": {
     "end_time": "2025-02-21T05:55:08.267076Z",
     "start_time": "2025-02-21T05:55:08.249234Z"
    }
   },
   "source": [],
   "outputs": [],
   "execution_count": 10
  },
  {
   "cell_type": "markdown",
   "id": "d755d443",
   "metadata": {},
   "source": [
    "### Q8. Check the unique values in the `owner` column and map 'First Owner' to 1, 'Second Owner' to 2 and 'Third Owner' to 3. The other values in `owener` should be assigned -1."
   ]
  },
  {
   "cell_type": "code",
   "id": "23187225",
   "metadata": {
    "ExecuteTime": {
     "end_time": "2025-02-21T05:55:08.461855Z",
     "start_time": "2025-02-21T05:55:08.451001Z"
    }
   },
   "source": [],
   "outputs": [],
   "execution_count": 10
  },
  {
   "cell_type": "markdown",
   "id": "4087b8a3",
   "metadata": {},
   "source": [
    "### Q9. Convert the `transmission` using one-hot encoding and merge the new column into the dataframe"
   ]
  },
  {
   "cell_type": "code",
   "id": "775f0244",
   "metadata": {
    "ExecuteTime": {
     "end_time": "2025-02-21T05:55:08.487966Z",
     "start_time": "2025-02-21T05:55:08.479739Z"
    }
   },
   "source": [],
   "outputs": [],
   "execution_count": 10
  },
  {
   "cell_type": "markdown",
   "id": "b7d0f5d6",
   "metadata": {},
   "source": [
    "### Q10. Apply min-max normalization to `seats`."
   ]
  },
  {
   "cell_type": "code",
   "id": "f2d17db2",
   "metadata": {
    "ExecuteTime": {
     "end_time": "2025-02-21T05:55:08.573334Z",
     "start_time": "2025-02-21T05:55:08.563264Z"
    }
   },
   "source": [],
   "outputs": [],
   "execution_count": 10
  },
  {
   "cell_type": "markdown",
   "id": "30a70713",
   "metadata": {},
   "source": [
    "### Q11. Draw line charts of annually averaged values of `selling_price` separated by `fuel`."
   ]
  },
  {
   "cell_type": "code",
   "id": "d48c9d5c",
   "metadata": {
    "ExecuteTime": {
     "end_time": "2025-02-21T05:55:08.630853Z",
     "start_time": "2025-02-21T05:55:08.611418Z"
    }
   },
   "source": [],
   "outputs": [],
   "execution_count": 10
  }
 ],
 "metadata": {
  "kernelspec": {
   "display_name": "Python 3 (ipykernel)",
   "language": "python",
   "name": "python3"
  },
  "language_info": {
   "codemirror_mode": {
    "name": "ipython",
    "version": 3
   },
   "file_extension": ".py",
   "mimetype": "text/x-python",
   "name": "python",
   "nbconvert_exporter": "python",
   "pygments_lexer": "ipython3",
   "version": "3.11.5"
  }
 },
 "nbformat": 4,
 "nbformat_minor": 5
}
