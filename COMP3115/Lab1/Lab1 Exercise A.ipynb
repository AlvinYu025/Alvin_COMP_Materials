{
 "cells": [
  {
   "cell_type": "markdown",
   "metadata": {},
   "source": [
    "# COMP3115: Exploratory Data Analysis and Visualization\n",
    "# Lab 1 Excercise on Python Basics\n",
    "\n",
    "Student Name: Yu Fengfei\n",
    "\n",
    "Student Number: 21251215"
   ]
  },
  {
   "cell_type": "markdown",
   "metadata": {},
   "source": [
    "## Q1. Write a program that prints out all elements of the list that are less than 10. For example, if there is a list a = [1, 1, 2, 34, 5, 8, 13, 21, 3, 55, 89], the expected output will be \n",
    "<br>1</br>\n",
    "<br>1</br>\n",
    "<br>2</br>\n",
    "<br>5</br>\n",
    "<br>8</br>\n",
    "<br>3</br>"
   ]
  },
  {
   "cell_type": "code",
   "metadata": {
    "ExecuteTime": {
     "end_time": "2025-01-24T07:04:54.434940Z",
     "start_time": "2025-01-24T07:04:54.421822Z"
    }
   },
   "source": [
    "list1 = [-6,-4,-2,-2,0,2,4,6,8,10]\n",
    "list2 = [0,1,2,3,4,5,16,17,18,19]\n",
    "list3 = [20]"
   ],
   "outputs": [],
   "execution_count": 41
  },
  {
   "metadata": {
    "ExecuteTime": {
     "end_time": "2025-01-24T07:04:54.481360Z",
     "start_time": "2025-01-24T07:04:54.468222Z"
    }
   },
   "cell_type": "code",
   "source": [
    "def print_elements(list):\n",
    "    empty = False\n",
    "    for element in list:\n",
    "        if element < 10:\n",
    "            empty = True\n",
    "            print(element)\n",
    "    if empty == False:\n",
    "        print(\"The list is empty\")"
   ],
   "outputs": [],
   "execution_count": 42
  },
  {
   "metadata": {
    "ExecuteTime": {
     "end_time": "2025-01-24T07:04:54.496838Z",
     "start_time": "2025-01-24T07:04:54.482772Z"
    }
   },
   "cell_type": "code",
   "source": "print_elements(list1)",
   "outputs": [
    {
     "name": "stdout",
     "output_type": "stream",
     "text": [
      "-6\n",
      "-4\n",
      "-2\n",
      "-2\n",
      "0\n",
      "2\n",
      "4\n",
      "6\n",
      "8\n"
     ]
    }
   ],
   "execution_count": 43
  },
  {
   "metadata": {
    "ExecuteTime": {
     "end_time": "2025-01-24T07:04:54.512761Z",
     "start_time": "2025-01-24T07:04:54.498353Z"
    }
   },
   "cell_type": "code",
   "source": "print_elements(list2)",
   "outputs": [
    {
     "name": "stdout",
     "output_type": "stream",
     "text": [
      "0\n",
      "1\n",
      "2\n",
      "3\n",
      "4\n",
      "5\n"
     ]
    }
   ],
   "execution_count": 44
  },
  {
   "metadata": {
    "ExecuteTime": {
     "end_time": "2025-01-24T07:04:54.527927Z",
     "start_time": "2025-01-24T07:04:54.513787Z"
    }
   },
   "cell_type": "code",
   "source": "print_elements(list3)",
   "outputs": [
    {
     "name": "stdout",
     "output_type": "stream",
     "text": [
      "The list is empty\n"
     ]
    }
   ],
   "execution_count": 45
  },
  {
   "cell_type": "markdown",
   "metadata": {},
   "source": [
    "## Q2. Write a function to sum all positive numbers in a list."
   ]
  },
  {
   "cell_type": "code",
   "metadata": {
    "ExecuteTime": {
     "end_time": "2025-01-24T07:04:54.542783Z",
     "start_time": "2025-01-24T07:04:54.529965Z"
    }
   },
   "source": [
    "def sum_elements(list):\n",
    "    total_sum = 0\n",
    "    for element in list:\n",
    "        if element > 0:\n",
    "            total_sum += element\n",
    "            \n",
    "    print(f\"Total sum is {total_sum}\")"
   ],
   "outputs": [],
   "execution_count": 46
  },
  {
   "metadata": {
    "ExecuteTime": {
     "end_time": "2025-01-24T07:04:54.557900Z",
     "start_time": "2025-01-24T07:04:54.543782Z"
    }
   },
   "cell_type": "code",
   "source": "sum_elements(list1)",
   "outputs": [
    {
     "name": "stdout",
     "output_type": "stream",
     "text": [
      "Total sum is 30\n"
     ]
    }
   ],
   "execution_count": 47
  },
  {
   "metadata": {
    "ExecuteTime": {
     "end_time": "2025-01-24T07:04:54.573280Z",
     "start_time": "2025-01-24T07:04:54.560162Z"
    }
   },
   "cell_type": "code",
   "source": "sum_elements(list2)",
   "outputs": [
    {
     "name": "stdout",
     "output_type": "stream",
     "text": [
      "Total sum is 85\n"
     ]
    }
   ],
   "execution_count": 48
  },
  {
   "metadata": {
    "ExecuteTime": {
     "end_time": "2025-01-24T07:04:54.588427Z",
     "start_time": "2025-01-24T07:04:54.574434Z"
    }
   },
   "cell_type": "code",
   "source": "sum_elements(list3)",
   "outputs": [
    {
     "name": "stdout",
     "output_type": "stream",
     "text": [
      "Total sum is 20\n"
     ]
    }
   ],
   "execution_count": 49
  },
  {
   "cell_type": "markdown",
   "metadata": {},
   "source": [
    "## Q3. Write a program to get the unique elements in a list. "
   ]
  },
  {
   "cell_type": "code",
   "metadata": {
    "ExecuteTime": {
     "end_time": "2025-01-24T07:04:54.603617Z",
     "start_time": "2025-01-24T07:04:54.589427Z"
    }
   },
   "source": [
    "def unique_elements(list):\n",
    "    sorted_list = set(list)\n",
    "    for element in sorted_list:\n",
    "        print(element)"
   ],
   "outputs": [],
   "execution_count": 50
  },
  {
   "metadata": {
    "ExecuteTime": {
     "end_time": "2025-01-24T07:04:54.650316Z",
     "start_time": "2025-01-24T07:04:54.637318Z"
    }
   },
   "cell_type": "code",
   "source": "unique_elements(list1)",
   "outputs": [
    {
     "name": "stdout",
     "output_type": "stream",
     "text": [
      "0\n",
      "2\n",
      "4\n",
      "6\n",
      "8\n",
      "10\n",
      "-6\n",
      "-4\n",
      "-2\n"
     ]
    }
   ],
   "execution_count": 51
  },
  {
   "metadata": {
    "ExecuteTime": {
     "end_time": "2025-01-24T07:04:54.681712Z",
     "start_time": "2025-01-24T07:04:54.668638Z"
    }
   },
   "cell_type": "code",
   "source": "unique_elements(list2)",
   "outputs": [
    {
     "name": "stdout",
     "output_type": "stream",
     "text": [
      "0\n",
      "1\n",
      "2\n",
      "3\n",
      "4\n",
      "5\n",
      "16\n",
      "17\n",
      "18\n",
      "19\n"
     ]
    }
   ],
   "execution_count": 52
  },
  {
   "metadata": {
    "ExecuteTime": {
     "end_time": "2025-01-24T07:04:54.743886Z",
     "start_time": "2025-01-24T07:04:54.731723Z"
    }
   },
   "cell_type": "code",
   "source": "unique_elements(list3)",
   "outputs": [
    {
     "name": "stdout",
     "output_type": "stream",
     "text": [
      "20\n"
     ]
    }
   ],
   "execution_count": 53
  },
  {
   "cell_type": "markdown",
   "metadata": {},
   "source": [
    "## Q4. Write a function to return a new list that has only the even elements of an existing list. For example, if there is a list a = [1, 1, 2, 34, 5, 8, 13, 21, 3, 55, 89], the expected output of the function will be [2, 34, 8]."
   ]
  },
  {
   "cell_type": "code",
   "metadata": {
    "ExecuteTime": {
     "end_time": "2025-01-24T07:04:54.790305Z",
     "start_time": "2025-01-24T07:04:54.776679Z"
    }
   },
   "source": [
    "def even_element_list(list):\n",
    "    new_list = []\n",
    "    for element in list:\n",
    "        if element % 2 == 0:\n",
    "            new_list.append(element)\n",
    "    print(new_list)\n",
    "    return new_list"
   ],
   "outputs": [],
   "execution_count": 54
  },
  {
   "metadata": {
    "ExecuteTime": {
     "end_time": "2025-01-24T07:04:54.835991Z",
     "start_time": "2025-01-24T07:04:54.821830Z"
    }
   },
   "cell_type": "code",
   "source": [
    "new_list1 = even_element_list(list1)\n",
    "print(new_list1)"
   ],
   "outputs": [
    {
     "name": "stdout",
     "output_type": "stream",
     "text": [
      "[-6, -4, -2, -2, 0, 2, 4, 6, 8, 10]\n",
      "[-6, -4, -2, -2, 0, 2, 4, 6, 8, 10]\n"
     ]
    }
   ],
   "execution_count": 55
  },
  {
   "metadata": {
    "ExecuteTime": {
     "end_time": "2025-01-24T07:04:54.851170Z",
     "start_time": "2025-01-24T07:04:54.838340Z"
    }
   },
   "cell_type": "code",
   "source": [
    "new_list2 = even_element_list(list2)\n",
    "print(new_list2)"
   ],
   "outputs": [
    {
     "name": "stdout",
     "output_type": "stream",
     "text": [
      "[0, 2, 4, 16, 18]\n",
      "[0, 2, 4, 16, 18]\n"
     ]
    }
   ],
   "execution_count": 56
  },
  {
   "metadata": {
    "ExecuteTime": {
     "end_time": "2025-01-24T07:04:54.866222Z",
     "start_time": "2025-01-24T07:04:54.852226Z"
    }
   },
   "cell_type": "code",
   "source": [
    "new_list3 = even_element_list(list3)\n",
    "print(new_list3)"
   ],
   "outputs": [
    {
     "name": "stdout",
     "output_type": "stream",
     "text": [
      "[20]\n",
      "[20]\n"
     ]
    }
   ],
   "execution_count": 57
  }
 ],
 "metadata": {
  "kernelspec": {
   "display_name": "Python 3 (ipykernel)",
   "language": "python",
   "name": "python3"
  },
  "language_info": {
   "codemirror_mode": {
    "name": "ipython",
    "version": 3
   },
   "file_extension": ".py",
   "mimetype": "text/x-python",
   "name": "python",
   "nbconvert_exporter": "python",
   "pygments_lexer": "ipython3",
   "version": "3.8.12"
  }
 },
 "nbformat": 4,
 "nbformat_minor": 4
}
